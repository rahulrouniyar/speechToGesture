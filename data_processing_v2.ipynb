{
 "cells": [
  {
   "cell_type": "code",
   "execution_count": null,
   "id": "a4d05f03",
   "metadata": {},
   "outputs": [],
   "source": [
    "import numpy as np\n",
    "import pandas as pd\n",
    "import os"
   ]
  },
  {
   "cell_type": "markdown",
   "id": "7562db08",
   "metadata": {},
   "source": [
    "# Keypoints data preparation"
   ]
  },
  {
   "cell_type": "code",
   "execution_count": 100,
   "id": "e57f79e7",
   "metadata": {},
   "outputs": [],
   "source": [
    "#  writing to a single file \n",
    "path = os.path.join('data_our','keypoints')\n",
    "\n",
    "keypoints = []   # save entire keypoints\n",
    "\n",
    "for file in os.listdir(path):\n",
    "    data = np.load(os.path.join(path,file),allow_pickle=True)\n",
    "    \n",
    "    data[0]=np.array(data[0])\n",
    "    data[1]=np.array(data[1])\n",
    "    data[2]=np.array(data[2])\n",
    "    \n",
    "    #calculate no of frames in each interval file\n",
    "    no_of_frames = len(data[0])\n",
    "    \n",
    "    #remove unnecessary keypoints from body keypoints\n",
    "    data[0] = data[0][:,1:9,:]\n",
    "    \n",
    "    for i in range(no_of_frames):\n",
    "        #concatenate body, left and right keypoint into single array \n",
    "        keypoint_sample = np.concatenate((data[0][i],data[1][i],data[2][i]),axis=0)\n",
    "        \n",
    "        # reshape keypoint to output format of model \n",
    "        reshaped_keypoint_sample = np.array(keypoint_sample).reshape(1,100)\n",
    "        \n",
    "        keypoints.append(reshaped_keypoint_sample)\n",
    "        \n",
    "#writing to npy file\n",
    "with open('keypoints/keypoints_file_v2.npy', 'wb') as f:\n",
    "    np.save(f,keypoints)"
   ]
  },
  {
   "cell_type": "code",
   "execution_count": 105,
   "id": "ae55d438",
   "metadata": {},
   "outputs": [
    {
     "name": "stdout",
     "output_type": "stream",
     "text": [
      "(294729, 1, 100)\n"
     ]
    }
   ],
   "source": [
    "temp = np.load('keypoints_file_v2.npy')\n",
    "print(temp.shape)"
   ]
  },
  {
   "cell_type": "markdown",
   "id": "7d7d2002",
   "metadata": {},
   "source": [
    "# Mfccs data preparation"
   ]
  },
  {
   "cell_type": "code",
   "execution_count": 103,
   "id": "99922562",
   "metadata": {},
   "outputs": [],
   "source": [
    "####  writing to a single file-------mfccs working\n",
    "path = os.path.join('data_our','mfccs')\n",
    "\n",
    "mfccs= [] # to store entire mfccs features \n",
    "mfccs_zeros = np.zeros((20,13)) #pad zeros for temporal use\n",
    "\n",
    "for file in os.listdir(path):\n",
    "    #load mfcc saved file \n",
    "    data = np.load(os.path.join(path,file))\n",
    "    #calculate no of frames in each file\n",
    "    no_of_frames = len(data)\n",
    "    # padding zeros in saved mfcc features\n",
    "    mfccs_zero_padded = np.concatenate((mfccs_zeros,data,mfccs_zeros),axis=0)\n",
    "    i = 0\n",
    "    # calculation for each frame\n",
    "    for i in range(no_of_frames):\n",
    "        temp = []\n",
    "        j = 0\n",
    "        # take 41 frames at a time for temporal use\n",
    "        for j in range(41):\n",
    "            temp = np.concatenate((temp,mfccs_zero_padded[i+j]),axis=0)\n",
    "        reshaped_mfccs = np.array(temp).reshape(41,13)\n",
    "        mfccs.append(reshaped_mfccs)\n",
    "##writing to a single file\n",
    "with open('mfccs/mfccs_file_v1.npy', 'wb') as f:\n",
    "    np.save(f,mfccs)"
   ]
  },
  {
   "cell_type": "code",
   "execution_count": 104,
   "id": "56dd5c31",
   "metadata": {},
   "outputs": [
    {
     "name": "stdout",
     "output_type": "stream",
     "text": [
      "(294729, 41, 13)\n"
     ]
    }
   ],
   "source": [
    "temp = np.load('mfccs/mfccs_file_v1.npy')\n",
    "print(temp.shape)"
   ]
  }
 ],
 "metadata": {
  "kernelspec": {
   "display_name": "aambir",
   "language": "python",
   "name": "aambir"
  },
  "language_info": {
   "codemirror_mode": {
    "name": "ipython",
    "version": 3
   },
   "file_extension": ".py",
   "mimetype": "text/x-python",
   "name": "python",
   "nbconvert_exporter": "python",
   "pygments_lexer": "ipython3",
   "version": "3.9.13"
  }
 },
 "nbformat": 4,
 "nbformat_minor": 5
}
