{
  "nbformat": 4,
  "nbformat_minor": 0,
  "metadata": {
    "colab": {
      "provenance": []
    },
    "kernelspec": {
      "name": "python3",
      "display_name": "Python 3"
    },
    "language_info": {
      "name": "python"
    }
  },
  "cells": [
    {
      "cell_type": "code",
      "execution_count": null,
      "metadata": {
        "id": "UmNrS_Jnrra8"
      },
      "outputs": [],
      "source": [
        "import tensorflow as tf\n",
        "from tensorflow import keras\n",
        "import cv2 as cv\n",
        "import matplotlib.pyplot as plt\n",
        "import numpy as  np"
      ]
    },
    {
      "cell_type": "code",
      "source": [
        "#limiting gpu usage\n",
        "gpus = tf.config.experimental.list_physical_devices('GPU')\n",
        "print(gpus)\n",
        "for gpu in gpus:\n",
        "  tf.config.experimental.set_memory_growth(gpu,True)"
      ],
      "metadata": {
        "id": "lbbsSZg4rxfb"
      },
      "execution_count": null,
      "outputs": []
    },
    {
      "cell_type": "code",
      "source": [
        "#importing model libraries\n",
        "import numpy as np\n",
        "\n",
        "from sklearn.model_selection import train_test_split\n",
        "\n",
        "from keras.models import Sequential\n",
        "from keras.layers import Dense, Activation, Dropout\n",
        "\n",
        "from tensorflow.keras.layers import GRU,SimpleRNN,LSTM,BatchNormalization,TimeDistributed,Bidirectional\n",
        "from keras.optimizers import SGD, Adam"
      ],
      "metadata": {
        "id": "CX_Gzay6rzOf"
      },
      "execution_count": null,
      "outputs": []
    },
    {
      "cell_type": "code",
      "source": [
        "# Load speech data \n",
        "# Temporal context\n",
        "speech_data = np.load('/content/drive/MyDrive/Major_project/dataset/mfccs_file_v1.npy')\n",
        "speech_data.shape"
      ],
      "metadata": {
        "colab": {
          "base_uri": "https://localhost:8080/"
        },
        "id": "xxZJcXmwr1Ou",
        "outputId": "f2295817-26da-42e6-e7c2-f299d489afb8"
      },
      "execution_count": null,
      "outputs": [
        {
          "output_type": "execute_result",
          "data": {
            "text/plain": [
              "(294729, 41, 13)"
            ]
          },
          "metadata": {},
          "execution_count": 3
        }
      ]
    },
    {
      "cell_type": "code",
      "source": [
        "# Load gesture data\n",
        "gesture_data = np.load('/content/drive/MyDrive/Major_project/dataset/keypoints_file_v4_2_gan.npy')\n",
        "gesture_data.shape"
      ],
      "metadata": {
        "colab": {
          "base_uri": "https://localhost:8080/"
        },
        "id": "8jtvoQe1r2vJ",
        "outputId": "ba2d55a2-3f10-4070-96d1-3e9f5914ad73"
      },
      "execution_count": null,
      "outputs": [
        {
          "output_type": "execute_result",
          "data": {
            "text/plain": [
              "(294729, 50, 2)"
            ]
          },
          "metadata": {},
          "execution_count": 4
        }
      ]
    },
    {
      "cell_type": "code",
      "source": [
        "# Absolute mfcc features\n",
        "speech_data = abs(speech_data)"
      ],
      "metadata": {
        "id": "vK8fd6VIr5S7"
      },
      "execution_count": null,
      "outputs": []
    },
    {
      "cell_type": "code",
      "source": [
        "# Create tensor data pipeline\n",
        "data = tf.data.Dataset.from_tensor_slices((speech_data,gesture_data))"
      ],
      "metadata": {
        "id": "xSVC0Tqmr7rB"
      },
      "execution_count": null,
      "outputs": []
    },
    {
      "cell_type": "code",
      "source": [
        "data = data.cache()\n",
        "data = data.shuffle(buffer_size=10000)\n",
        "data = data.batch(64)\n",
        "data = data.prefetch(32)"
      ],
      "metadata": {
        "id": "KByAb8e5sBQH"
      },
      "execution_count": null,
      "outputs": []
    },
    {
      "cell_type": "code",
      "source": [
        "#iterate through each batch\n",
        "speech, gesture = data.as_numpy_iterator().next()\n",
        "print(speech.shape)\n",
        "print(gesture.shape)"
      ],
      "metadata": {
        "id": "o5gVm9tDsE_7"
      },
      "execution_count": null,
      "outputs": []
    },
    {
      "cell_type": "code",
      "source": [
        "#iterate through each batch to create respective file again\n",
        "mfccs = []\n",
        "keypoints = []\n",
        "for i in range(4606):\n",
        "  speech, gesture = data.as_numpy_iterator().next()\n",
        "  mfccs.append(speech)\n",
        "  keypoints.append(gesture)"
      ],
      "metadata": {
        "id": "Uyr91zCisJK_"
      },
      "execution_count": null,
      "outputs": []
    },
    {
      "cell_type": "code",
      "source": [
        "print(len(mfccs))\n",
        "print(len(keypoints))"
      ],
      "metadata": {
        "colab": {
          "base_uri": "https://localhost:8080/"
        },
        "id": "Q_fLzGzUuDwK",
        "outputId": "2a741789-3abd-4aaf-a43b-c4c751bbfd57"
      },
      "execution_count": null,
      "outputs": [
        {
          "output_type": "stream",
          "name": "stdout",
          "text": [
            "4606\n",
            "4606\n"
          ]
        }
      ]
    },
    {
      "cell_type": "code",
      "source": [
        "mfccs = np.array(mfccs)"
      ],
      "metadata": {
        "id": "_yGIIhCHuPR1"
      },
      "execution_count": null,
      "outputs": []
    },
    {
      "cell_type": "code",
      "source": [
        "mfccs.shape"
      ],
      "metadata": {
        "colab": {
          "base_uri": "https://localhost:8080/"
        },
        "id": "JRDyQMmtuSLS",
        "outputId": "535d68e4-717e-4755-f1a0-3c5993753d96"
      },
      "execution_count": null,
      "outputs": [
        {
          "output_type": "execute_result",
          "data": {
            "text/plain": [
              "(294784, 41, 13)"
            ]
          },
          "metadata": {},
          "execution_count": 15
        }
      ]
    },
    {
      "cell_type": "code",
      "source": [
        "mfccs = mfccs.reshape(294784,41,13)"
      ],
      "metadata": {
        "id": "0_hvHCkDuUEc"
      },
      "execution_count": null,
      "outputs": []
    },
    {
      "cell_type": "code",
      "source": [
        "mfccs[0]"
      ],
      "metadata": {
        "id": "OLqk2kZeuZ5o"
      },
      "execution_count": null,
      "outputs": []
    },
    {
      "cell_type": "code",
      "source": [
        "keypoints = np.array(keypoints)\n",
        "keypoints = keypoints.reshape(294784,50,2)"
      ],
      "metadata": {
        "id": "KjBuuH3rueBM"
      },
      "execution_count": null,
      "outputs": []
    },
    {
      "cell_type": "code",
      "source": [
        "with open('/content/drive/MyDrive/new_data/mfccs.npy' , 'wb') as f:\n",
        "  np.save(f,mfccs)"
      ],
      "metadata": {
        "id": "egKwSYF6u7vH"
      },
      "execution_count": null,
      "outputs": []
    },
    {
      "cell_type": "code",
      "source": [
        "with open('/content/drive/MyDrive/new_data/keypoints.npy' , 'wb') as f:\n",
        "  np.save(f,keypoints)"
      ],
      "metadata": {
        "id": "DuWHDIbmvMnK"
      },
      "execution_count": null,
      "outputs": []
    }
  ]
}