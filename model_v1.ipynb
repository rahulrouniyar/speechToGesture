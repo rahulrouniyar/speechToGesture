{
  "nbformat": 4,
  "nbformat_minor": 0,
  "metadata": {
    "colab": {
      "provenance": []
    },
    "kernelspec": {
      "name": "python3",
      "display_name": "Python 3"
    },
    "language_info": {
      "name": "python"
    }
  },
  "cells": [
    {
      "cell_type": "code",
      "execution_count": null,
      "metadata": {
        "id": "v6gBkKo3g14E"
      },
      "outputs": [],
      "source": [
        "import tensorflow as tf\n",
        "from tensorflow import keras"
      ]
    },
    {
      "cell_type": "code",
      "source": [
        "#limiting gpu usage\n",
        "gpus = tf.config.experimental.list_physical_devices('GPU')\n",
        "for gpu in gpus:\n",
        "  tf.config.experimental.set_memory_growth(gpu,True)"
      ],
      "metadata": {
        "id": "tToOAk9Ug6W8"
      },
      "execution_count": null,
      "outputs": []
    },
    {
      "cell_type": "code",
      "source": [
        "#importing model libraries\n",
        "import numpy as np\n",
        "\n",
        "from sklearn.model_selection import train_test_split\n",
        "\n",
        "from keras.models import Sequential\n",
        "from keras.layers import Dense, Activation, Dropout\n",
        "\n",
        "from tensorflow.keras.layers import GRU,SimpleRNN,LSTM,BatchNormalization,TimeDistributed,Bidirectional\n",
        "from keras.optimizers import SGD, Adam"
      ],
      "metadata": {
        "id": "I7yQxwMlg8L7"
      },
      "execution_count": null,
      "outputs": []
    },
    {
      "cell_type": "code",
      "source": [
        "# Define Keras model\n",
        "\n",
        "N_HIDDEN = 256\n",
        "\n",
        "N_CONTEXT = 40 + 1 # 20 + 1 + 20 frames\n",
        "N_INPUT = 13 # mfcc features\n",
        "\n",
        "N_OUTPUT = 100  # 50 * 2\n",
        "\n",
        "\n",
        "model = Sequential()\n",
        "model.add(TimeDistributed(Dense(N_HIDDEN), input_shape=(N_CONTEXT, N_INPUT)))\n",
        "model.add(BatchNormalization())\n",
        "model.add(Activation('relu'))\n",
        "model.add(Dropout(0.1))\n",
        "\n",
        "model.add(TimeDistributed(Dense(N_HIDDEN)))\n",
        "model.add(BatchNormalization())\n",
        "model.add(Activation('relu'))\n",
        "model.add(Dropout(0.1))\n",
        "\n",
        "model.add(TimeDistributed(Dense(N_HIDDEN)))\n",
        "model.add(BatchNormalization())\n",
        "model.add(Activation('relu'))\n",
        "model.add(Dropout(0.1))\n",
        "\n",
        "model.add(GRU(N_HIDDEN, return_sequences=False))\n",
        "model.add(BatchNormalization())\n",
        "model.add(Activation('relu'))\n",
        "model.add(Dropout(0.1))\n",
        "\n",
        "model.add(Dense(N_OUTPUT))\n",
        "model.add(Activation('linear'))\n",
        "\n",
        "print(model.summary())"
      ],
      "metadata": {
        "id": "50q51eSlhEsB"
      },
      "execution_count": null,
      "outputs": []
    },
    {
      "cell_type": "code",
      "source": [
        "# data preparation\n",
        "X = np.load(\"/content/drive/MyDrive/dataset/mfccs_file.npy\")\n",
        "Y = np.load(\"/content/drive/MyDrive/dataset/keypoints_file_v2.npy\")\n",
        "\n",
        "N_train = int(len(X)*0.9)\n",
        "N_validation = len(X) - N_train\n",
        "\n",
        "# Split on training and validation\n",
        "X_train, X_validation, Y_train, Y_validation = train_test_split(X, Y, test_size=N_validation)\n",
        "\n",
        "print(X_train.shape)\n",
        "print(Y_train.shape)"
      ],
      "metadata": {
        "id": "hN8r1CTBhT_b"
      },
      "execution_count": null,
      "outputs": []
    },
    {
      "cell_type": "code",
      "source": [
        "# compile and train model\n",
        "EPOCHS = 4\n",
        "BATCH_SIZE = 64\n",
        "\n",
        "optimizer = Adam(learning_rate=0.001, beta_1=0.9, beta_2=0.999)\n",
        "model.compile(loss='mean_squared_error', optimizer=optimizer)\n",
        "\n",
        "hist = model.fit(X_train, Y_train, batch_size=BATCH_SIZE, epochs=EPOCHS, validation_data=(X_validation, Y_validation))"
      ],
      "metadata": {
        "id": "lKuneJmLhYaL"
      },
      "execution_count": null,
      "outputs": []
    },
    {
      "cell_type": "code",
      "source": [
        "# save model\n",
        "model.save(\"model/gesture.h5\")\n",
        "model.save_weights(\"model/weights\")\n",
        "\n",
        "!zip -r /content/model.zip /content/model"
      ],
      "metadata": {
        "id": "dT8JQypxhlCp"
      },
      "execution_count": null,
      "outputs": []
    },
    {
      "cell_type": "code",
      "source": [
        "# loading model \n",
        "from tensorflow.keras.models import load_model\n",
        "model_loaded = tf.keras.Model()\n",
        "model_loaded = load_model(\"gesture.h5\")\n",
        "model_loaded.summary()"
      ],
      "metadata": {
        "id": "kN3jO3Jyh1u6"
      },
      "execution_count": null,
      "outputs": []
    },
    {
      "cell_type": "code",
      "source": [
        "# prediction \n",
        "X = np.load('file_name.npy')\n",
        "predicted = np.array(model.predict(X))\n",
        "print(predicted.shape)"
      ],
      "metadata": {
        "id": "JxBrolkJiAuQ"
      },
      "execution_count": null,
      "outputs": []
    }
  ]
}