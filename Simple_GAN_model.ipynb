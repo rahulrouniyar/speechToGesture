{
  "nbformat": 4,
  "nbformat_minor": 0,
  "metadata": {
    "colab": {
      "provenance": []
    },
    "kernelspec": {
      "name": "python3",
      "display_name": "Python 3"
    },
    "language_info": {
      "name": "python"
    },
    "accelerator": "GPU",
    "gpuClass": "standard"
  },
  "cells": [
    {
      "cell_type": "markdown",
      "source": [
        "1. Import Dependencies and Data"
      ],
      "metadata": {
        "id": "FlhTcVMT2dgc"
      }
    },
    {
      "cell_type": "code",
      "execution_count": 1,
      "metadata": {
        "id": "W77z511Y1KXc"
      },
      "outputs": [],
      "source": [
        "# Bringing in tensorflow\n",
        "import tensorflow as tf\n",
        "gpus = tf.config.experimental.list_physical_devices('GPU')\n",
        "for gpu in gpus: \n",
        "    tf.config.experimental.set_memory_growth(gpu, True)"
      ]
    },
    {
      "cell_type": "code",
      "source": [
        "import matplotlib.pyplot as plt\n",
        "import numpy as np\n",
        "import cv2 as cv"
      ],
      "metadata": {
        "id": "zn3Y7vSQ2bdD"
      },
      "execution_count": 2,
      "outputs": []
    },
    {
      "cell_type": "code",
      "source": [
        "# Load speech data \n",
        "# Temporal context\n",
        "speech_data = np.load('/content/drive/MyDrive/Major_project/dataset/mfccs_file_v1.npy')\n",
        "speech_data.shape"
      ],
      "metadata": {
        "colab": {
          "base_uri": "https://localhost:8080/"
        },
        "id": "BH3BjM8e3EHT",
        "outputId": "c937648f-a821-4bf8-8359-4a9e52fdde7c"
      },
      "execution_count": 3,
      "outputs": [
        {
          "output_type": "execute_result",
          "data": {
            "text/plain": [
              "(294729, 41, 13)"
            ]
          },
          "metadata": {},
          "execution_count": 3
        }
      ]
    },
    {
      "cell_type": "code",
      "source": [
        "# Load gesture data\n",
        "gesture_data = np.load('/content/drive/MyDrive/Major_project/dataset/keypoints_file_v4_2_gan.npy')\n",
        "gesture_data.shape"
      ],
      "metadata": {
        "colab": {
          "base_uri": "https://localhost:8080/"
        },
        "id": "1YjSzgHG3gDU",
        "outputId": "b472ed19-12a3-487f-ba51-84943cf8d259"
      },
      "execution_count": 4,
      "outputs": [
        {
          "output_type": "execute_result",
          "data": {
            "text/plain": [
              "(294729, 50, 2)"
            ]
          },
          "metadata": {},
          "execution_count": 4
        }
      ]
    },
    {
      "cell_type": "code",
      "source": [
        "speech_data = speech_data[:100000]\n",
        "print(speech_data.shape)\n",
        "gesture_data = gesture_data[:100000]\n",
        "print(gesture_data.shape)"
      ],
      "metadata": {
        "colab": {
          "base_uri": "https://localhost:8080/"
        },
        "id": "AULARd_k3o2Z",
        "outputId": "0edcdcc3-64a8-4b1c-91a4-229c254f00e0"
      },
      "execution_count": 5,
      "outputs": [
        {
          "output_type": "stream",
          "name": "stdout",
          "text": [
            "(100000, 41, 13)\n",
            "(100000, 50, 2)\n"
          ]
        }
      ]
    },
    {
      "cell_type": "code",
      "source": [
        "# Absolute mfcc features\n",
        "speech_data = abs(speech_data)"
      ],
      "metadata": {
        "id": "GuJwRgO33xXg"
      },
      "execution_count": 6,
      "outputs": []
    },
    {
      "cell_type": "code",
      "source": [
        "temporal_size = 41\n",
        "no_of_keypoints = 50\n",
        "speech_data = speech_data.reshape(len(speech_data), 13*temporal_size)\n",
        "gesture_data = gesture_data.reshape(len(gesture_data), 2*no_of_keypoints)\n",
        "print(speech_data.shape)\n",
        "print(gesture_data.shape)"
      ],
      "metadata": {
        "colab": {
          "base_uri": "https://localhost:8080/"
        },
        "id": "9wnONMwn5OVg",
        "outputId": "c45ce3a9-0a93-4e23-83ab-767d815593ba"
      },
      "execution_count": 7,
      "outputs": [
        {
          "output_type": "stream",
          "name": "stdout",
          "text": [
            "(100000, 533)\n",
            "(100000, 100)\n"
          ]
        }
      ]
    },
    {
      "cell_type": "markdown",
      "source": [],
      "metadata": {
        "id": "NxAjqe8U5R4m"
      }
    },
    {
      "cell_type": "code",
      "source": [
        "# Function to plot keypoint\n",
        "def plot_keypoints(keypoint):\n",
        "    pair = [(0,1),(0,4),(0,7),(1,2),(2,3),(4,5),(5,6),(8,9),(8,13),(8,17),(8,21),(8,25),(9,10),(10,11),(11,12),(13,14),(14,15),(15,16),(17,18)\n",
        "        ,(18,19),(19,20),(21,22),(22,23),(23,24),(25,26),(26,27),(27,28),(8+21,9+21),(8+21,13+21),(8+21,17+21),(8+21,21+21),(8+21,25+21),(9+21,10+21),(10+21,11+21),(11+21,12+21),(13+21,14+21),(14+21,15+21),(15+21,16+21),(17+21,18+21)\n",
        "        ,(18+21,19+21),(19+21,20+21),(21+21,22+21),(22+21,23+21),(23+21,24+21),(25+21,26+21),(26+21,27+21),(27+21,28+21)]\n",
        "\n",
        "    width = 640\n",
        "    height = 480\n",
        "    frame = np.empty((height,width))\n",
        "    frame[:,:] = 255\n",
        "    keypoint = keypoint.reshape(50,2)\n",
        "    points = []\n",
        "    for j in range(50):\n",
        "        x = int(keypoint[j][0]*width)\n",
        "        y = int(keypoint[j][1]*height)\n",
        "        points.append((x,y))\n",
        "    for k in range(50):\n",
        "        frame = cv.ellipse(frame, points[k] ,(3, 3), 0, 0, 360, (0, 0, 255), cv.FILLED)\n",
        "\n",
        "    for l in range(len(pair)):\n",
        "        frame = cv.line(frame, points[pair[l][0]], points[pair[l][1]], (0, 255, 0), 3)\n",
        "    plt.imshow(frame)"
      ],
      "metadata": {
        "id": "GyRuW8x55SM9"
      },
      "execution_count": 8,
      "outputs": []
    },
    {
      "cell_type": "code",
      "source": [
        "plot_keypoints(gesture_data[97])"
      ],
      "metadata": {
        "colab": {
          "base_uri": "https://localhost:8080/",
          "height": 269
        },
        "id": "t2_DoBlF5W5b",
        "outputId": "baff7137-3b58-4a8a-c3a7-f7021a83dae0"
      },
      "execution_count": 9,
      "outputs": [
        {
          "output_type": "display_data",
          "data": {
            "text/plain": [
              "<Figure size 432x288 with 1 Axes>"
            ],
            "image/png": "[encoded data removed]"
          },
          "metadata": {
            "needs_background": "light"
          }
        }
      ]
    },
    {
      "cell_type": "code",
      "source": [
        "# Create tensor data pipeline\n",
        "data = tf.data.Dataset.from_tensor_slices((speech_data,gesture_data))"
      ],
      "metadata": {
        "id": "EwqoGAIO5nsn"
      },
      "execution_count": 10,
      "outputs": []
    },
    {
      "cell_type": "code",
      "source": [
        "data = data.cache()\n",
        "data = data.shuffle(buffer_size=10000)\n",
        "data = data.batch(64)\n",
        "data = data.prefetch(32)"
      ],
      "metadata": {
        "id": "o1u9w5ST5ka1"
      },
      "execution_count": 11,
      "outputs": []
    },
    {
      "cell_type": "code",
      "source": [
        "speech, gesture = data.as_numpy_iterator().next()"
      ],
      "metadata": {
        "id": "1LhjLCPu6MnY"
      },
      "execution_count": 12,
      "outputs": []
    },
    {
      "cell_type": "code",
      "source": [
        "print(speech.shape)\n",
        "print(gesture.shape)"
      ],
      "metadata": {
        "colab": {
          "base_uri": "https://localhost:8080/"
        },
        "id": "JN7oPPZM6RG8",
        "outputId": "e4428ce8-f4e5-40d2-cdf5-ff6478cd6082"
      },
      "execution_count": 13,
      "outputs": [
        {
          "output_type": "stream",
          "name": "stdout",
          "text": [
            "(64, 533)\n",
            "(64, 100)\n"
          ]
        }
      ]
    },
    {
      "cell_type": "code",
      "source": [],
      "metadata": {
        "id": "OZM9_pGm6Vkg"
      },
      "execution_count": null,
      "outputs": []
    },
    {
      "cell_type": "markdown",
      "source": [],
      "metadata": {
        "id": "ZmtaOWQ37rLN"
      }
    },
    {
      "cell_type": "code",
      "source": [
        "from tensorflow.keras.models import Sequential\n",
        "from tensorflow.keras.layers import Dense, BatchNormalization, LeakyReLU, Dropout"
      ],
      "metadata": {
        "id": "_ChA7VlX7rwL"
      },
      "execution_count": 14,
      "outputs": []
    },
    {
      "cell_type": "markdown",
      "source": [],
      "metadata": {
        "id": "qUzHmV2T7utL"
      }
    },
    {
      "cell_type": "code",
      "source": [
        "def build_generator():\n",
        "  model = Sequential()\n",
        "  model.add(Dense(256,input_shape=(temporal_size*13,), use_bias=False))\n",
        "  model.add(BatchNormalization())\n",
        "  model.add(LeakyReLU())\n",
        "\n",
        "  model.add(Dense(512, use_bias=False))\n",
        "  model.add(BatchNormalization())\n",
        "  model.add(LeakyReLU())\n",
        "\n",
        "  model.add(Dense(1024, use_bias=False))\n",
        "  model.add(BatchNormalization())\n",
        "  model.add(LeakyReLU())\n",
        "\n",
        "  model.add(Dense(no_of_keypoints*2, activation='tanh', use_bias=False))\n",
        "  \n",
        "  return model"
      ],
      "metadata": {
        "id": "gXhHhZtz7u7U"
      },
      "execution_count": 15,
      "outputs": []
    },
    {
      "cell_type": "markdown",
      "source": [],
      "metadata": {
        "id": "qUN9PrFJ7xOm"
      }
    },
    {
      "cell_type": "code",
      "source": [
        "def build_discriminator():\n",
        "  model = Sequential()\n",
        "\n",
        "  model.add(Dense(1024, input_shape=(no_of_keypoints*2,)))\n",
        "  model.add(LeakyReLU())\n",
        "  model.add(Dropout(0.3))\n",
        "\n",
        "  model.add(Dense(512))\n",
        "  model.add(LeakyReLU())\n",
        "  model.add(Dropout(0.3))\n",
        "\n",
        "  model.add(Dense(256))\n",
        "  model.add(LeakyReLU())\n",
        "  model.add(Dropout(0.3))\n",
        "\n",
        "  model.add(Dense(1))\n",
        "  \n",
        "  return model"
      ],
      "metadata": {
        "id": "OQMfkHSl7ziG"
      },
      "execution_count": 16,
      "outputs": []
    },
    {
      "cell_type": "code",
      "source": [
        "generator = build_generator()\n",
        "generator.summary()"
      ],
      "metadata": {
        "colab": {
          "base_uri": "https://localhost:8080/"
        },
        "id": "E3K_wUdH72Zz",
        "outputId": "3eadaaa4-e646-418d-8bc1-25adbf593bfb"
      },
      "execution_count": 17,
      "outputs": [
        {
          "output_type": "stream",
          "name": "stdout",
          "text": [
            "Model: \"sequential\"\n",
            "_________________________________________________________________\n",
            " Layer (type)                Output Shape              Param #   \n",
            "=================================================================\n",
            " dense (Dense)               (None, 256)               136448    \n",
            "                                                                 \n",
            " batch_normalization (BatchN  (None, 256)              1024      \n",
            " ormalization)                                                   \n",
            "                                                                 \n",
            " leaky_re_lu (LeakyReLU)     (None, 256)               0         \n",
            "                                                                 \n",
            " dense_1 (Dense)             (None, 512)               131072    \n",
            "                                                                 \n",
            " batch_normalization_1 (Batc  (None, 512)              2048      \n",
            " hNormalization)                                                 \n",
            "                                                                 \n",
            " leaky_re_lu_1 (LeakyReLU)   (None, 512)               0         \n",
            "                                                                 \n",
            " dense_2 (Dense)             (None, 1024)              524288    \n",
            "                                                                 \n",
            " batch_normalization_2 (Batc  (None, 1024)             4096      \n",
            " hNormalization)                                                 \n",
            "                                                                 \n",
            " leaky_re_lu_2 (LeakyReLU)   (None, 1024)              0         \n",
            "                                                                 \n",
            " dense_3 (Dense)             (None, 100)               102400    \n",
            "                                                                 \n",
            "=================================================================\n",
            "Total params: 901,376\n",
            "Trainable params: 897,792\n",
            "Non-trainable params: 3,584\n",
            "_________________________________________________________________\n"
          ]
        }
      ]
    },
    {
      "cell_type": "code",
      "source": [
        "discriminator = build_discriminator()\n",
        "discriminator.summary()"
      ],
      "metadata": {
        "colab": {
          "base_uri": "https://localhost:8080/"
        },
        "id": "BUPxNRvq73PX",
        "outputId": "f857955f-12b6-4c3c-b099-e661012d818d"
      },
      "execution_count": 18,
      "outputs": [
        {
          "output_type": "stream",
          "name": "stdout",
          "text": [
            "Model: \"sequential_1\"\n",
            "_________________________________________________________________\n",
            " Layer (type)                Output Shape              Param #   \n",
            "=================================================================\n",
            " dense_4 (Dense)             (None, 1024)              103424    \n",
            "                                                                 \n",
            " leaky_re_lu_3 (LeakyReLU)   (None, 1024)              0         \n",
            "                                                                 \n",
            " dropout (Dropout)           (None, 1024)              0         \n",
            "                                                                 \n",
            " dense_5 (Dense)             (None, 512)               524800    \n",
            "                                                                 \n",
            " leaky_re_lu_4 (LeakyReLU)   (None, 512)               0         \n",
            "                                                                 \n",
            " dropout_1 (Dropout)         (None, 512)               0         \n",
            "                                                                 \n",
            " dense_6 (Dense)             (None, 256)               131328    \n",
            "                                                                 \n",
            " leaky_re_lu_5 (LeakyReLU)   (None, 256)               0         \n",
            "                                                                 \n",
            " dropout_2 (Dropout)         (None, 256)               0         \n",
            "                                                                 \n",
            " dense_7 (Dense)             (None, 1)                 257       \n",
            "                                                                 \n",
            "=================================================================\n",
            "Total params: 759,809\n",
            "Trainable params: 759,809\n",
            "Non-trainable params: 0\n",
            "_________________________________________________________________\n"
          ]
        }
      ]
    },
    {
      "cell_type": "markdown",
      "source": [],
      "metadata": {
        "id": "7LBQEfeH8L9-"
      }
    },
    {
      "cell_type": "markdown",
      "source": [],
      "metadata": {
        "id": "mhTESVx98M12"
      }
    },
    {
      "cell_type": "code",
      "source": [
        "from tensorflow.keras.optimizers import Adam\n",
        "from tensorflow.keras.losses import BinaryCrossentropy"
      ],
      "metadata": {
        "id": "4nSLM6IS8NMv"
      },
      "execution_count": 19,
      "outputs": []
    },
    {
      "cell_type": "code",
      "source": [
        "g_opt = Adam(learning_rate=0.0001) \n",
        "d_opt = Adam(learning_rate=0.00001) \n",
        "g_loss = BinaryCrossentropy(from_logits=True)\n",
        "d_loss = BinaryCrossentropy(from_logits=True)"
      ],
      "metadata": {
        "id": "Xltyl_8h8Qby"
      },
      "execution_count": 20,
      "outputs": []
    },
    {
      "cell_type": "markdown",
      "source": [],
      "metadata": {
        "id": "5HqVRCWs8hn9"
      }
    },
    {
      "cell_type": "code",
      "source": [
        "# Importing the base model class to subclass our training step \n",
        "from tensorflow.keras.models import Model"
      ],
      "metadata": {
        "id": "KnYCM9PV8iID"
      },
      "execution_count": 22,
      "outputs": []
    },
    {
      "cell_type": "code",
      "source": [
        "class GestureGAN(Model): \n",
        "    def __init__(self, generator, discriminator, *args, **kwargs):\n",
        "        # Pass through args and kwargs to base class \n",
        "        super().__init__(*args, **kwargs)\n",
        "        \n",
        "        # Create attributes for gen and disc\n",
        "        self.generator = generator \n",
        "        self.discriminator = discriminator \n",
        "        \n",
        "    def compile(self, g_opt, d_opt, g_loss, d_loss, *args, **kwargs): \n",
        "        # Compile with base class\n",
        "        super().compile(*args, **kwargs)\n",
        "        \n",
        "        # Create attributes for losses and optimizers\n",
        "        self.g_opt = g_opt\n",
        "        self.d_opt = d_opt\n",
        "        self.g_loss = g_loss\n",
        "        self.d_loss = d_loss \n",
        "\n",
        "    def train_step(self, batch):\n",
        "        # Get the data \n",
        "        speech, real_keypoint = batch\n",
        "        fake_keypoint = self.generator(speech, training=False)\n",
        "        \n",
        "        # Train the discriminator\n",
        "        with tf.GradientTape() as d_tape: \n",
        "            # Pass the real and fake images to the discriminator model\n",
        "            yhat_real = self.discriminator(real_keypoint, training=True) \n",
        "            yhat_fake = self.discriminator(fake_keypoint, training=True)\n",
        "            yhat_realfake = tf.concat([yhat_real, yhat_fake], axis=0)\n",
        "            \n",
        "            # Create labels for real and fakes images\n",
        "            y_realfake = tf.concat([tf.zeros_like(yhat_real), tf.ones_like(yhat_fake)], axis=0)\n",
        "            \n",
        "            # Add some noise to the TRUE outputs\n",
        "            noise_real = 0.15*tf.random.uniform(tf.shape(yhat_real))\n",
        "            noise_fake = -0.15*tf.random.uniform(tf.shape(yhat_fake))\n",
        "            y_realfake += tf.concat([noise_real, noise_fake], axis=0)\n",
        "            \n",
        "            # Calculate loss - BINARYCROSS \n",
        "            total_d_loss = self.d_loss(y_realfake, yhat_realfake)\n",
        "            \n",
        "        # Apply backpropagation - nn learn \n",
        "        dgrad = d_tape.gradient(total_d_loss, self.discriminator.trainable_variables) \n",
        "        self.d_opt.apply_gradients(zip(dgrad, self.discriminator.trainable_variables))\n",
        "        \n",
        "        # Train the generator \n",
        "        with tf.GradientTape() as g_tape: \n",
        "            # Generate some new images\n",
        "            gen_keypoints = self.generator(speech, training=True)\n",
        "                                        \n",
        "            # Create the predicted labels\n",
        "            predicted_labels = self.discriminator(gen_keypoints, training=False)\n",
        "                                        \n",
        "            # Calculate loss - trick to training to fake out the discriminator\n",
        "            total_g_loss = self.g_loss(tf.zeros_like(predicted_labels), predicted_labels) \n",
        "            \n",
        "        # Apply backprop\n",
        "        ggrad = g_tape.gradient(total_g_loss, self.generator.trainable_variables)\n",
        "        self.g_opt.apply_gradients(zip(ggrad, self.generator.trainable_variables))\n",
        "        \n",
        "        return {\"d_loss\":total_d_loss, \"g_loss\":total_g_loss}"
      ],
      "metadata": {
        "id": "nOqyte4Q8kDt"
      },
      "execution_count": 24,
      "outputs": []
    },
    {
      "cell_type": "code",
      "source": [
        "# Create instance of subclassed model\n",
        "gesturegan = GestureGAN(generator, discriminator)"
      ],
      "metadata": {
        "id": "MX6J7hg29pQ3"
      },
      "execution_count": 25,
      "outputs": []
    },
    {
      "cell_type": "code",
      "source": [
        "# Compile the model\n",
        "gesturegan.compile(g_opt, d_opt, g_loss, d_loss)"
      ],
      "metadata": {
        "id": "6XZQmIVS9z8c"
      },
      "execution_count": 26,
      "outputs": []
    },
    {
      "cell_type": "markdown",
      "source": [
        "Build Callback\n",
        "\n"
      ],
      "metadata": {
        "id": "diGqrA3F91wY"
      }
    },
    {
      "cell_type": "code",
      "source": [],
      "metadata": {
        "id": "IByy76gb92Hw"
      },
      "execution_count": null,
      "outputs": []
    },
    {
      "cell_type": "markdown",
      "source": [
        "Train"
      ],
      "metadata": {
        "id": "AfR0n-3793FU"
      }
    },
    {
      "cell_type": "code",
      "source": [
        "# Training for \n",
        "hist = gesturegan.fit(data, epochs=5)"
      ],
      "metadata": {
        "colab": {
          "base_uri": "https://localhost:8080/"
        },
        "id": "a3LMDCpN964A",
        "outputId": "551d2883-8336-48eb-a695-55fcab8d8b1d"
      },
      "execution_count": 27,
      "outputs": [
        {
          "output_type": "stream",
          "name": "stdout",
          "text": [
            "Epoch 1/5\n",
            "1563/1563 [==============================] - 27s 10ms/step - d_loss: 0.6792 - g_loss: 0.5906\n",
            "Epoch 2/5\n",
            "1563/1563 [==============================] - 17s 11ms/step - d_loss: 0.6918 - g_loss: 0.6059\n",
            "Epoch 3/5\n",
            "1563/1563 [==============================] - 19s 12ms/step - d_loss: 0.6933 - g_loss: 0.6063\n",
            "Epoch 4/5\n",
            "1563/1563 [==============================] - 16s 10ms/step - d_loss: 0.6926 - g_loss: 0.6119\n",
            "Epoch 5/5\n",
            "1563/1563 [==============================] - 15s 10ms/step - d_loss: 0.6933 - g_loss: 0.6237\n"
          ]
        }
      ]
    },
    {
      "cell_type": "code",
      "source": [
        "# Training for \n",
        "hist = gesturegan.fit(data, epochs=100)"
      ],
      "metadata": {
        "colab": {
          "base_uri": "https://localhost:8080/"
        },
        "id": "cQbAmtdQ-Cjn",
        "outputId": "cbb70e90-f982-4fc2-e288-c3b1efb1308a"
      },
      "execution_count": 49,
      "outputs": [
        {
          "output_type": "stream",
          "name": "stdout",
          "text": [
            "Epoch 1/100\n",
            "1563/1563 [==============================] - 17s 11ms/step - d_loss: 0.6901 - g_loss: 0.6680\n",
            "Epoch 2/100\n",
            "1563/1563 [==============================] - 17s 11ms/step - d_loss: 0.6907 - g_loss: 0.6751\n",
            "Epoch 3/100\n",
            "1563/1563 [==============================] - 18s 12ms/step - d_loss: 0.6922 - g_loss: 0.6800\n",
            "Epoch 4/100\n",
            "1563/1563 [==============================] - 17s 11ms/step - d_loss: 0.6914 - g_loss: 0.6756\n",
            "Epoch 5/100\n",
            "1563/1563 [==============================] - 16s 10ms/step - d_loss: 0.6917 - g_loss: 0.6768\n",
            "Epoch 6/100\n",
            "1563/1563 [==============================] - 16s 10ms/step - d_loss: 0.6888 - g_loss: 0.6845\n",
            "Epoch 7/100\n",
            "1563/1563 [==============================] - 17s 11ms/step - d_loss: 0.6913 - g_loss: 0.6774\n",
            "Epoch 8/100\n",
            "1563/1563 [==============================] - 16s 10ms/step - d_loss: 0.6889 - g_loss: 0.6829\n",
            "Epoch 9/100\n",
            "1563/1563 [==============================] - 16s 10ms/step - d_loss: 0.6889 - g_loss: 0.6878\n",
            "Epoch 10/100\n",
            "1563/1563 [==============================] - 16s 10ms/step - d_loss: 0.6892 - g_loss: 0.6799\n",
            "Epoch 11/100\n",
            "1563/1563 [==============================] - 16s 10ms/step - d_loss: 0.6888 - g_loss: 0.6813\n",
            "Epoch 12/100\n",
            "1563/1563 [==============================] - 16s 10ms/step - d_loss: 0.6896 - g_loss: 0.6844\n",
            "Epoch 13/100\n",
            "1563/1563 [==============================] - 16s 10ms/step - d_loss: 0.6882 - g_loss: 0.6767\n",
            "Epoch 14/100\n",
            "1563/1563 [==============================] - 16s 10ms/step - d_loss: 0.6887 - g_loss: 0.6736\n",
            "Epoch 15/100\n",
            "1563/1563 [==============================] - 16s 10ms/step - d_loss: 0.6897 - g_loss: 0.6801\n",
            "Epoch 16/100\n",
            "1563/1563 [==============================] - 16s 10ms/step - d_loss: 0.6920 - g_loss: 0.6686\n",
            "Epoch 17/100\n",
            "1563/1563 [==============================] - 16s 10ms/step - d_loss: 0.6913 - g_loss: 0.6690\n",
            "Epoch 18/100\n",
            "1563/1563 [==============================] - 16s 10ms/step - d_loss: 0.6887 - g_loss: 0.6715\n",
            "Epoch 19/100\n",
            "1563/1563 [==============================] - 16s 10ms/step - d_loss: 0.6879 - g_loss: 0.6759\n",
            "Epoch 20/100\n",
            "1563/1563 [==============================] - 18s 11ms/step - d_loss: 0.6881 - g_loss: 0.6792\n",
            "Epoch 21/100\n",
            "1563/1563 [==============================] - 17s 11ms/step - d_loss: 0.6876 - g_loss: 0.6697\n",
            "Epoch 22/100\n",
            "1563/1563 [==============================] - 16s 10ms/step - d_loss: 0.6874 - g_loss: 0.6807\n",
            "Epoch 23/100\n",
            "1563/1563 [==============================] - 16s 10ms/step - d_loss: 0.6902 - g_loss: 0.6730\n",
            "Epoch 24/100\n",
            "1563/1563 [==============================] - 20s 13ms/step - d_loss: 0.6924 - g_loss: 0.6744\n",
            "Epoch 25/100\n",
            "1563/1563 [==============================] - 17s 11ms/step - d_loss: 0.6901 - g_loss: 0.6778\n",
            "Epoch 26/100\n",
            "1563/1563 [==============================] - 16s 10ms/step - d_loss: 0.6880 - g_loss: 0.6759\n",
            "Epoch 27/100\n",
            "1563/1563 [==============================] - 16s 10ms/step - d_loss: 0.6892 - g_loss: 0.6811\n",
            "Epoch 28/100\n",
            "1563/1563 [==============================] - 16s 10ms/step - d_loss: 0.6915 - g_loss: 0.6767\n",
            "Epoch 29/100\n",
            "1563/1563 [==============================] - 16s 10ms/step - d_loss: 0.6910 - g_loss: 0.6746\n",
            "Epoch 30/100\n",
            "1563/1563 [==============================] - 17s 11ms/step - d_loss: 0.6921 - g_loss: 0.6715\n",
            "Epoch 31/100\n",
            "1563/1563 [==============================] - 16s 10ms/step - d_loss: 0.6916 - g_loss: 0.6725\n",
            "Epoch 32/100\n",
            "1563/1563 [==============================] - 16s 10ms/step - d_loss: 0.6917 - g_loss: 0.6693\n",
            "Epoch 33/100\n",
            "1563/1563 [==============================] - 17s 11ms/step - d_loss: 0.6883 - g_loss: 0.6753\n",
            "Epoch 34/100\n",
            "1563/1563 [==============================] - 16s 10ms/step - d_loss: 0.6906 - g_loss: 0.6697\n",
            "Epoch 35/100\n",
            "1563/1563 [==============================] - 16s 10ms/step - d_loss: 0.6881 - g_loss: 0.6630\n",
            "Epoch 36/100\n",
            "1563/1563 [==============================] - 16s 10ms/step - d_loss: 0.6862 - g_loss: 0.6640\n",
            "Epoch 37/100\n",
            "1563/1563 [==============================] - 16s 10ms/step - d_loss: 0.6890 - g_loss: 0.6669\n",
            "Epoch 38/100\n",
            "1563/1563 [==============================] - 16s 10ms/step - d_loss: 0.6872 - g_loss: 0.6585\n",
            "Epoch 39/100\n",
            "1563/1563 [==============================] - 16s 10ms/step - d_loss: 0.6868 - g_loss: 0.6553\n",
            "Epoch 40/100\n",
            "1563/1563 [==============================] - 16s 11ms/step - d_loss: 0.6896 - g_loss: 0.6644\n",
            "Epoch 41/100\n",
            "1563/1563 [==============================] - 16s 10ms/step - d_loss: 0.6839 - g_loss: 0.6531\n",
            "Epoch 42/100\n",
            "1563/1563 [==============================] - 16s 10ms/step - d_loss: 0.6851 - g_loss: 0.6550\n",
            "Epoch 43/100\n",
            "1563/1563 [==============================] - 16s 10ms/step - d_loss: 0.6850 - g_loss: 0.6480\n",
            "Epoch 44/100\n",
            "1563/1563 [==============================] - 16s 10ms/step - d_loss: 0.6819 - g_loss: 0.6455\n",
            "Epoch 45/100\n",
            "1563/1563 [==============================] - 16s 10ms/step - d_loss: 0.6894 - g_loss: 0.6638\n",
            "Epoch 46/100\n",
            "1563/1563 [==============================] - 17s 11ms/step - d_loss: 0.6839 - g_loss: 0.6590\n",
            "Epoch 47/100\n",
            "1563/1563 [==============================] - 16s 10ms/step - d_loss: 0.6896 - g_loss: 0.6609\n",
            "Epoch 48/100\n",
            "1563/1563 [==============================] - 16s 10ms/step - d_loss: 0.6834 - g_loss: 0.6590\n",
            "Epoch 49/100\n",
            "1563/1563 [==============================] - 16s 11ms/step - d_loss: 0.6860 - g_loss: 0.6483\n",
            "Epoch 50/100\n",
            "1563/1563 [==============================] - 16s 10ms/step - d_loss: 0.6881 - g_loss: 0.6630\n",
            "Epoch 51/100\n",
            "1563/1563 [==============================] - 16s 10ms/step - d_loss: 0.6851 - g_loss: 0.6587\n",
            "Epoch 52/100\n",
            "1563/1563 [==============================] - 16s 10ms/step - d_loss: 0.6824 - g_loss: 0.6472\n",
            "Epoch 53/100\n",
            "1563/1563 [==============================] - 16s 10ms/step - d_loss: 0.6868 - g_loss: 0.6545\n",
            "Epoch 54/100\n",
            "1563/1563 [==============================] - 16s 10ms/step - d_loss: 0.6799 - g_loss: 0.6402\n",
            "Epoch 55/100\n",
            "1563/1563 [==============================] - 16s 10ms/step - d_loss: 0.6926 - g_loss: 0.6752\n",
            "Epoch 56/100\n",
            "1563/1563 [==============================] - 16s 10ms/step - d_loss: 0.6811 - g_loss: 0.6399\n",
            "Epoch 57/100\n",
            "1563/1563 [==============================] - 16s 10ms/step - d_loss: 0.6897 - g_loss: 0.6642\n",
            "Epoch 58/100\n",
            "1563/1563 [==============================] - 16s 10ms/step - d_loss: 0.6881 - g_loss: 0.6650\n",
            "Epoch 59/100\n",
            "1563/1563 [==============================] - 17s 11ms/step - d_loss: 0.6910 - g_loss: 0.6741\n",
            "Epoch 60/100\n",
            "1563/1563 [==============================] - 16s 10ms/step - d_loss: 0.6852 - g_loss: 0.6597\n",
            "Epoch 61/100\n",
            "1563/1563 [==============================] - 16s 10ms/step - d_loss: 0.6887 - g_loss: 0.6673\n",
            "Epoch 62/100\n",
            "1563/1563 [==============================] - 16s 10ms/step - d_loss: 0.6684 - g_loss: 0.6117\n",
            "Epoch 63/100\n",
            "1563/1563 [==============================] - 16s 10ms/step - d_loss: 0.6806 - g_loss: 0.6476\n",
            "Epoch 64/100\n",
            "1563/1563 [==============================] - 16s 10ms/step - d_loss: 0.6921 - g_loss: 0.6685\n",
            "Epoch 65/100\n",
            "1563/1563 [==============================] - 16s 10ms/step - d_loss: 0.6884 - g_loss: 0.6775\n",
            "Epoch 66/100\n",
            "1563/1563 [==============================] - 16s 10ms/step - d_loss: 0.6826 - g_loss: 0.6617\n",
            "Epoch 67/100\n",
            "1563/1563 [==============================] - 16s 10ms/step - d_loss: 0.6863 - g_loss: 0.6575\n",
            "Epoch 68/100\n",
            "1563/1563 [==============================] - 16s 10ms/step - d_loss: 0.6863 - g_loss: 0.6523\n",
            "Epoch 69/100\n",
            "1563/1563 [==============================] - 16s 11ms/step - d_loss: 0.6841 - g_loss: 0.6610\n",
            "Epoch 70/100\n",
            "1563/1563 [==============================] - 16s 10ms/step - d_loss: 0.6752 - g_loss: 0.6465\n",
            "Epoch 71/100\n",
            "1563/1563 [==============================] - 16s 10ms/step - d_loss: 0.6587 - g_loss: 0.6313\n",
            "Epoch 72/100\n",
            "1563/1563 [==============================] - 18s 11ms/step - d_loss: 0.6507 - g_loss: 0.5956\n",
            "Epoch 73/100\n",
            "1563/1563 [==============================] - 16s 10ms/step - d_loss: 0.6528 - g_loss: 0.5899\n",
            "Epoch 74/100\n",
            "1563/1563 [==============================] - 16s 10ms/step - d_loss: 0.6668 - g_loss: 0.6314\n",
            "Epoch 75/100\n",
            "1563/1563 [==============================] - 17s 11ms/step - d_loss: 0.6736 - g_loss: 0.6506\n",
            "Epoch 76/100\n",
            "1563/1563 [==============================] - 16s 10ms/step - d_loss: 0.6610 - g_loss: 0.6314\n",
            "Epoch 77/100\n",
            "1563/1563 [==============================] - 16s 10ms/step - d_loss: 0.6707 - g_loss: 0.6379\n",
            "Epoch 78/100\n",
            "1563/1563 [==============================] - 16s 10ms/step - d_loss: 0.6778 - g_loss: 0.6533\n",
            "Epoch 79/100\n",
            "1563/1563 [==============================] - 17s 11ms/step - d_loss: 0.6549 - g_loss: 0.6278\n",
            "Epoch 80/100\n",
            "1563/1563 [==============================] - 17s 11ms/step - d_loss: 0.6621 - g_loss: 0.6295\n",
            "Epoch 81/100\n",
            "1563/1563 [==============================] - 16s 10ms/step - d_loss: 0.6531 - g_loss: 0.5896\n",
            "Epoch 82/100\n",
            "1563/1563 [==============================] - 17s 11ms/step - d_loss: 0.6496 - g_loss: 0.5445\n",
            "Epoch 83/100\n",
            "1563/1563 [==============================] - 17s 11ms/step - d_loss: 0.6596 - g_loss: 0.6217\n",
            "Epoch 84/100\n",
            "1563/1563 [==============================] - 17s 11ms/step - d_loss: 0.6557 - g_loss: 0.6097\n",
            "Epoch 85/100\n",
            "1563/1563 [==============================] - 19s 12ms/step - d_loss: 0.6539 - g_loss: 0.5564\n",
            "Epoch 86/100\n",
            "1563/1563 [==============================] - 17s 11ms/step - d_loss: 0.6560 - g_loss: 0.5808\n",
            "Epoch 87/100\n",
            "1563/1563 [==============================] - 17s 11ms/step - d_loss: 0.6316 - g_loss: 0.5254\n",
            "Epoch 88/100\n",
            "1563/1563 [==============================] - 18s 11ms/step - d_loss: 0.6534 - g_loss: 0.5663\n",
            "Epoch 89/100\n",
            "1563/1563 [==============================] - 17s 11ms/step - d_loss: 0.6569 - g_loss: 0.5703\n",
            "Epoch 90/100\n",
            "1563/1563 [==============================] - 16s 10ms/step - d_loss: 0.6311 - g_loss: 0.5232\n",
            "Epoch 91/100\n",
            "1563/1563 [==============================] - 17s 11ms/step - d_loss: 0.6361 - g_loss: 0.5670\n",
            "Epoch 92/100\n",
            "1563/1563 [==============================] - 17s 11ms/step - d_loss: 0.6272 - g_loss: 0.4842\n",
            "Epoch 93/100\n",
            "1563/1563 [==============================] - 18s 11ms/step - d_loss: 0.6376 - g_loss: 0.5275\n",
            "Epoch 94/100\n",
            "1563/1563 [==============================] - 17s 11ms/step - d_loss: 0.6758 - g_loss: 0.6340\n",
            "Epoch 95/100\n",
            "1563/1563 [==============================] - 17s 11ms/step - d_loss: 0.6453 - g_loss: 0.5596\n",
            "Epoch 96/100\n",
            "1563/1563 [==============================] - 17s 11ms/step - d_loss: 0.6187 - g_loss: 0.4761\n",
            "Epoch 97/100\n",
            "1563/1563 [==============================] - 17s 11ms/step - d_loss: 0.6685 - g_loss: 0.5999\n",
            "Epoch 98/100\n",
            "1563/1563 [==============================] - 18s 12ms/step - d_loss: 0.6718 - g_loss: 0.6175\n",
            "Epoch 99/100\n",
            "1563/1563 [==============================] - 16s 10ms/step - d_loss: 0.6588 - g_loss: 0.5993\n",
            "Epoch 100/100\n",
            "1563/1563 [==============================] - 17s 11ms/step - d_loss: 0.6566 - g_loss: 0.5619\n"
          ]
        }
      ]
    },
    {
      "cell_type": "markdown",
      "source": [
        "Review Performance"
      ],
      "metadata": {
        "id": "8DUf-aAZ-NBJ"
      }
    },
    {
      "cell_type": "code",
      "source": [
        "plt.suptitle('Loss')\n",
        "plt.plot(hist.history['d_loss'], label='d_loss')\n",
        "plt.plot(hist.history['g_loss'], label='g_loss')\n",
        "plt.legend()\n",
        "plt.show()"
      ],
      "metadata": {
        "colab": {
          "base_uri": "https://localhost:8080/",
          "height": 294
        },
        "id": "GA7Zw1vZ-O9j",
        "outputId": "6f4c303d-ca76-4dd6-a8bc-32423d55f91b"
      },
      "execution_count": 50,
      "outputs": [
        {
          "output_type": "display_data",
          "data": {
            "text/plain": [
              "<Figure size 432x288 with 1 Axes>"
            ],
            "image/png": "[encoded data removed]"
          },
          "metadata": {
            "needs_background": "light"
          }
        }
      ]
    },
    {
      "cell_type": "code",
      "source": [
        "generator.save('/content/drive/MyDrive/Major_project/generator.h5')\n",
        "discriminator.save('/content/drive/MyDrive/Major_project/discriminator.h5')"
      ],
      "metadata": {
        "colab": {
          "base_uri": "https://localhost:8080/"
        },
        "id": "pwa-9W7yN_zl",
        "outputId": "78931dc5-15f3-4c9f-e032-6003730c5a18"
      },
      "execution_count": 58,
      "outputs": [
        {
          "output_type": "stream",
          "name": "stderr",
          "text": [
            "WARNING:tensorflow:Compiled the loaded model, but the compiled metrics have yet to be built. `model.compile_metrics` will be empty until you train or evaluate the model.\n",
            "WARNING:tensorflow:Compiled the loaded model, but the compiled metrics have yet to be built. `model.compile_metrics` will be empty until you train or evaluate the model.\n"
          ]
        }
      ]
    },
    {
      "cell_type": "code",
      "source": [
        "speech_test = speech_data[27]"
      ],
      "metadata": {
        "id": "kAbzBZgx_3Jk"
      },
      "execution_count": 51,
      "outputs": []
    },
    {
      "cell_type": "code",
      "source": [
        "speech_test = speech_test.reshape(1,533)"
      ],
      "metadata": {
        "id": "sfC9E7AG_7w_"
      },
      "execution_count": 52,
      "outputs": []
    },
    {
      "cell_type": "code",
      "source": [
        "keypoint_predicted = generator.predict(speech_test)\n",
        "keypoint_predicted = keypoint_predicted.reshape(50,2)"
      ],
      "metadata": {
        "colab": {
          "base_uri": "https://localhost:8080/"
        },
        "id": "hatWtpQgAAVw",
        "outputId": "69ef5d9c-af44-4dcd-8c2d-63e7b5fad739"
      },
      "execution_count": 53,
      "outputs": [
        {
          "output_type": "stream",
          "name": "stdout",
          "text": [
            "1/1 [==============================] - 0s 25ms/step\n"
          ]
        }
      ]
    },
    {
      "cell_type": "code",
      "source": [
        "plot_keypoints(keypoint_predicted)"
      ],
      "metadata": {
        "colab": {
          "base_uri": "https://localhost:8080/",
          "height": 269
        },
        "id": "MZG_skG2AXCr",
        "outputId": "5225d503-cf6e-43ce-ce3c-6713cd018e52"
      },
      "execution_count": 54,
      "outputs": [
        {
          "output_type": "display_data",
          "data": {
            "text/plain": [
              "<Figure size 432x288 with 1 Axes>"
            ],
            "image/png": "[encoded data removed]"
          },
          "metadata": {
            "needs_background": "light"
          }
        }
      ]
    },
    {
      "cell_type": "code",
      "source": [
        "mfcc = np.load(\"/content/drive/MyDrive/Major_project/dataset/predict_mfcc.npy\")\n",
        "mfcc = abs(mfcc.reshape(465,533))\n",
        "generated_gesture = generator.predict(mfcc)\n",
        "print(generated_gesture.shape)"
      ],
      "metadata": {
        "colab": {
          "base_uri": "https://localhost:8080/"
        },
        "id": "AQopF4JsAa7y",
        "outputId": "1235a7de-c73c-4174-e03b-c62b7dc94cb6"
      },
      "execution_count": 55,
      "outputs": [
        {
          "output_type": "stream",
          "name": "stdout",
          "text": [
            "15/15 [==============================] - 0s 3ms/step\n",
            "(465, 100)\n"
          ]
        }
      ]
    },
    {
      "cell_type": "code",
      "source": [
        "### converting keypoints to images ###\n",
        "import os\n",
        "import cv2 as cv\n",
        "import numpy as np\n",
        "import matplotlib.pyplot as plt\n",
        "import glob\n",
        "\n",
        "# path to store temporary frames\n",
        "frame_path = '/content/drive/MyDrive/Major_project/generated_images' \n",
        "\n",
        "predicted = generated_gesture\n",
        "\n",
        "# path to plain white image \n",
        "plain_image = '/content/drive/MyDrive/Major_project'\n",
        "\n",
        "# connect keypoints to create gestures\n",
        "pair = [(0,1),(0,4),(0,7),(1,2),(2,3),(4,5),(5,6),(8,9),(8,13),(8,17),(8,21),(8,25),(9,10),(10,11),(11,12),(13,14),(14,15),(15,16),(17,18),\n",
        "        (18,19),(19,20),(21,22),(22,23),(23,24),(25,26),(26,27),(27,28),(8+21,9+21),(8+21,13+21),(8+21,17+21),(8+21,21+21),(8+21,25+21),\n",
        "        (9+21,10+21),(10+21,11+21),(11+21,12+21),(13+21,14+21),(14+21,15+21),(15+21,16+21),(17+21,18+21),(18+21,19+21),(19+21,20+21),\n",
        "        (21+21,22+21),(22+21,23+21),(23+21,24+21),(25+21,26+21),(26+21,27+21),(27+21,28+21)]\n",
        "\n",
        "for i in range(len(predicted)):\n",
        "  #file name to store frames\n",
        "  filename = 'frame_' + str(i) +'.png' \n",
        "\n",
        "  frame = cv.imread(os.path.join(plain_image, 'white_image_hd.png'))\n",
        "  # reshape predicted keypoints from (1,100) to (50,2)\n",
        "  keypoint = predicted[i].reshape(50,2)\n",
        "  # calculate points to draw keypoints in plain white image \n",
        "  points = []\n",
        "  for j in range(50):\n",
        "    x = int(keypoint[j][0]*1280)\n",
        "    y = int(keypoint[j][1]*720)\n",
        "\n",
        "    points.append((x,y))\n",
        "  # draw circle around keypoints\n",
        "  for k in range(50):\n",
        "    frame = cv.ellipse(frame, points[k] ,(3, 3), 0, 0, 360, (0, 0, 255), cv.FILLED)\n",
        "  # draw line to join keypoints\n",
        "  for l in range(len(pair)):\n",
        "    frame = cv.line(frame, points[pair[l][0]], points[pair[l][1]], (0, 255, 0), 3)\n",
        "  # file path to store frame\n",
        "  file_path = os.path.join(frame_path,filename)\n",
        "  # store frame in specified location\n",
        "  cv.imwrite(file_path,frame)\n",
        "\n"
      ],
      "metadata": {
        "id": "qR1UUnlRDINa"
      },
      "execution_count": 56,
      "outputs": []
    },
    {
      "cell_type": "code",
      "source": [
        "speech_test = mfcc[0].reshape(1,533)\n",
        "keypoint_predicted = generator.predict(speech_test)\n",
        "keypoint_predicted = keypoint_predicted.reshape(50,2)\n",
        "plot_keypoints(keypoint_predicted)"
      ],
      "metadata": {
        "colab": {
          "base_uri": "https://localhost:8080/",
          "height": 287
        },
        "id": "JlSv-1oZFTSD",
        "outputId": "80475cf6-fe7f-4124-b465-857c4d9ac679"
      },
      "execution_count": 44,
      "outputs": [
        {
          "output_type": "stream",
          "name": "stdout",
          "text": [
            "1/1 [==============================] - 0s 32ms/step\n"
          ]
        },
        {
          "output_type": "display_data",
          "data": {
            "text/plain": [
              "<Figure size 432x288 with 1 Axes>"
            ],
            "image/png": "[encoded data removed]"
          },
          "metadata": {
            "needs_background": "light"
          }
        }
      ]
    },
    {
      "cell_type": "code",
      "source": [
        "#converting images to video\n",
        "import cv2\n",
        "import numpy as np\n",
        "import glob\n",
        "\n",
        "frameSize = (1280, 720)\n",
        "\n",
        "out = cv2.VideoWriter('/content/drive/MyDrive/Major_project/Gan_100.avi',cv2.VideoWriter_fourcc(*'DIVX'), 30, frameSize)\n",
        "\n",
        "for filename in glob.glob('/content/drive/MyDrive/Major_project/generated_images/*.png'):\n",
        "    img = cv2.imread(filename)\n",
        "    out.write(img)\n",
        "\n",
        "out.release()"
      ],
      "metadata": {
        "id": "lGGYRPi0FfIU"
      },
      "execution_count": 57,
      "outputs": []
    }
  ]
}